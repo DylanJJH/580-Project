{
 "cells": [
  {
   "cell_type": "code",
   "execution_count": 35,
   "metadata": {},
   "outputs": [],
   "source": [
    "import pandas as pd \n",
    "import numpy as np\n",
    "import re\n",
    "from sklearn.feature_extraction.text import CountVectorizer\n",
    "from sklearn.metrics.pairwise import cosine_similarity\n",
    "import string\n",
    "import csv\n",
    "import nltk\n",
    "from nltk.corpus import stopwords\n",
    "from gensim.models.doc2vec import Doc2Vec, TaggedDocument\n",
    "from nltk.tokenize import word_tokenize"
   ]
  },
  {
   "cell_type": "code",
   "execution_count": 42,
   "metadata": {},
   "outputs": [],
   "source": [
    "def main():\n",
    "    ans = input('Do you want a recommendation list by two movie names or a story?\\n A.Enter movie names   B.Enter a story\\n')\n",
    "    movie = []\n",
    "    if ans == 'A' or ans == 'a':\n",
    "        movie01 = str(input('Please enter the 1st movie:\\n'))\n",
    "        movie02 = str(input('Please enter the 2nd movie:\\n'))\n",
    "        movie = [movie01, movie02]\n",
    "        overall_recommendation(movie)\n",
    "    if ans == 'B' or ans == 'b': \n",
    "        common_recom()"
   ]
  },
  {
   "cell_type": "markdown",
   "metadata": {},
   "source": [
    "## Model 1 -Movie recommendation by entering movie names"
   ]
  },
  {
   "cell_type": "code",
   "execution_count": 3,
   "metadata": {},
   "outputs": [],
   "source": [
    "modify=pd.read_csv('modified data.csv')"
   ]
  },
  {
   "cell_type": "code",
   "execution_count": 4,
   "metadata": {},
   "outputs": [],
   "source": [
    "# similarity between input movies\n",
    "def movie_similar(movie_names):\n",
    "    \n",
    "    movie_1=modify[modify['title']==movie_names[0]]\n",
    "    movie_2=modify[modify['title']==movie_names[1]]\n",
    "    movies_df=pd.concat([movie_1, movie_2], axis=0)\n",
    "    count_matrix=CountVectorizer().fit_transform(movies_df['features'])\n",
    "    cosine_sim=np.round(cosine_similarity(count_matrix), 3)\n",
    "    sim=cosine_sim[0,1]\n",
    "    print('movie similarity: ', sim)\n",
    "    print('\\n')\n",
    "    return sim"
   ]
  },
  {
   "cell_type": "code",
   "execution_count": 5,
   "metadata": {},
   "outputs": [],
   "source": [
    "# movie recommendation based on common features\n",
    "def common_recom(movie_names):\n",
    "    common=modify\n",
    "    movie_1=common[common['title']==movie_names[0]]\n",
    "    movie_2=common[common['title']==movie_names[1]]\n",
    "    common_in_movies=pd.concat([movie_1, movie_2], ignore_index=True)\n",
    "    common.features[len(common)]=common_in_movies.features[0]+''+common_in_movies.features[1]\n",
    "    \n",
    "    count_matrix=CountVectorizer().fit_transform(common['features'])\n",
    "    cosine_sim=np.round(cosine_similarity(count_matrix), 3)\n",
    "    \n",
    "    index=4803\n",
    "    similar_movies=list(enumerate(cosine_sim[index]))\n",
    "    similar_movies=pd.DataFrame(similar_movies, columns=['index', 'similarity'])\n",
    "    similar_movies=pd.merge(similar_movies, common[['index', 'title','popularity','vote_average']], on='index')\n",
    "    def similar_movies_index(title):\n",
    "        return similar_movies.index[similar_movies['title']==title].values[0]\n",
    "    similar_movies=similar_movies.drop(index=[similar_movies_index(movie_names[0]),\n",
    "                                        similar_movies_index(movie_names[1])])\n",
    "    similar_movies=similar_movies.sort_values(by='similarity', ascending=False)\n",
    "    similar_movies=similar_movies[0:10]\n",
    "    print('recommendation by commonplace')\n",
    "    print(similar_movies.sort_values(by = 'popularity',ascending = False))\n",
    "    print('\\n')\n",
    "    return similar_movies.sort_values(by = 'popularity',ascending = False)"
   ]
  },
  {
   "cell_type": "code",
   "execution_count": 6,
   "metadata": {},
   "outputs": [],
   "source": [
    "# seperate movie recommendation \n",
    "def movie_recom(movie_names):\n",
    "    count_matrix=CountVectorizer().fit_transform(modify['features'])\n",
    "    cosine_sim=np.round(cosine_similarity(count_matrix), 3)\n",
    "    def movie_index(title):\n",
    "        return modify.index[modify['title']==title].values[0]\n",
    "    for movie_name in movie_names:\n",
    "        index=movie_index(movie_name)\n",
    "        similar_movies=list(enumerate(cosine_sim[index]))\n",
    "        similar_movies=pd.DataFrame(similar_movies, columns=['index', 'similarity'])\n",
    "        similar_movies=pd.merge(similar_movies, modify[['index', 'title','popularity','vote_average']], on='index')\n",
    "        similar_movies=similar_movies.sort_values(by='similarity', ascending=False)\n",
    "        similar_movies = similar_movies[1:10]\n",
    "        print('recommendation for ', movie_name)\n",
    "        print(similar_movies.sort_values(by = 'popularity',ascending = False))\n",
    "        print('\\n')\n",
    "    return similar_movies.sort_values(by = 'popularity',ascending = False)"
   ]
  },
  {
   "cell_type": "code",
   "execution_count": 9,
   "metadata": {},
   "outputs": [],
   "source": [
    "# overall recommendation\n",
    "def overall_recommendation(movie_names):\n",
    "    movie_similar(movie_names)\n",
    "    if movie_similar(movie_names) > 0.15:\n",
    "        common_recom(movie_names)\n",
    "    else:\n",
    "        movie_recom(movie_names)"
   ]
  },
  {
   "cell_type": "code",
   "execution_count": 10,
   "metadata": {},
   "outputs": [
    {
     "name": "stdout",
     "output_type": "stream",
     "text": [
      "movie similarity:  0.374\n",
      "\n",
      "\n",
      "movie similarity:  0.374\n",
      "\n",
      "\n"
     ]
    },
    {
     "name": "stderr",
     "output_type": "stream",
     "text": [
      "/Library/Frameworks/Python.framework/Versions/3.7/lib/python3.7/site-packages/ipykernel_launcher.py:7: SettingWithCopyWarning: \n",
      "A value is trying to be set on a copy of a slice from a DataFrame\n",
      "\n",
      "See the caveats in the documentation: http://pandas.pydata.org/pandas-docs/stable/user_guide/indexing.html#returning-a-view-versus-a-copy\n",
      "  import sys\n"
     ]
    },
    {
     "name": "stdout",
     "output_type": "stream",
     "text": [
      "recommendation by commonplace\n",
      "     index  similarity                                title  popularity  \\\n",
      "26      26       0.481           Captain America: Civil War  198.372395   \n",
      "7        7       0.553              Avengers: Age of Ultron  134.279229   \n",
      "68      68       0.470                             Iron Man  120.725053   \n",
      "182    182       0.663                              Ant-Man  120.093610   \n",
      "126    126       0.535                 Thor: The Dark World   99.499595   \n",
      "129    129       0.516                                 Thor   86.493424   \n",
      "79      79       0.592                           Iron Man 2   77.300194   \n",
      "85      85       0.503  Captain America: The Winter Soldier   72.225265   \n",
      "174    174       0.535                  The Incredible Hulk   62.898336   \n",
      "203    203       0.463                                   X2    2.871739   \n",
      "\n",
      "     vote_average  \n",
      "26            7.1  \n",
      "7             7.3  \n",
      "68            7.4  \n",
      "182           7.0  \n",
      "126           6.8  \n",
      "129           6.6  \n",
      "79            6.6  \n",
      "85            7.6  \n",
      "174           6.1  \n",
      "203           6.8  \n",
      "\n",
      "\n"
     ]
    }
   ],
   "source": [
    "# model test\n",
    "movielist=['Spider-Man', 'The Avengers']\n",
    "overall_recommendation(movielist)"
   ]
  },
  {
   "cell_type": "markdown",
   "metadata": {},
   "source": [
    "## Model 2 -Movie recommendation by entering keywords or stories"
   ]
  },
  {
   "cell_type": "code",
   "execution_count": 12,
   "metadata": {},
   "outputs": [],
   "source": [
    "movies = pd.read_csv(\"modified data.csv\")"
   ]
  },
  {
   "cell_type": "code",
   "execution_count": 13,
   "metadata": {},
   "outputs": [],
   "source": [
    "# function to clean stopwords and punctuation and to lowercase training data (overview and genres)\n",
    "def token_clean(name):\n",
    "    lemma = nltk.wordnet.WordNetLemmatizer()\n",
    "    name_list = []\n",
    "    movies[name] = movies[name].astype(str)\n",
    "    for index,row in movies.iterrows():\n",
    "        text = row[name]\n",
    "        text = re.sub(r'\\b\\d+\\b', '', text)\n",
    "        tokens = nltk.word_tokenize(text)\n",
    "        tokens = [token.lower() for token in tokens if token.lower() not in stopwords.words('english')]\n",
    "        tokens = [term for term in tokens if term not in string.punctuation]\n",
    "        tokens = [lemma.lemmatize(token) for token in tokens]\n",
    "        new_fea = ' '.join(tokens)\n",
    "        name_list.append(new_fea)\n",
    "    return name_list"
   ]
  },
  {
   "cell_type": "code",
   "execution_count": 14,
   "metadata": {},
   "outputs": [],
   "source": [
    "overview = token_clean(\"overview\")\n",
    "genres = token_clean(\"genres\")\n",
    "movies[\"genres\"] = genres\n",
    "data = overview\n",
    "tags = genres\n",
    "tagged_data = [TaggedDocument(words=nltk.word_tokenize(d), tags=nltk.word_tokenize(str(tags[i]))) for i, d in enumerate(data)]"
   ]
  },
  {
   "cell_type": "code",
   "execution_count": 15,
   "metadata": {},
   "outputs": [
    {
     "name": "stderr",
     "output_type": "stream",
     "text": [
      "/Library/Frameworks/Python.framework/Versions/3.7/lib/python3.7/site-packages/gensim/models/doc2vec.py:574: UserWarning: The parameter `size` is deprecated, will be removed in 4.0.0, use `vector_size` instead.\n",
      "  warnings.warn(\"The parameter `size` is deprecated, will be removed in 4.0.0, use `vector_size` instead.\")\n"
     ]
    }
   ],
   "source": [
    "max_epochs = 100\n",
    "\n",
    "model = Doc2Vec(size=20, alpha=0.025,  min_alpha=0.00025, min_count=1, dm =1) # low performance\n",
    "\n",
    "model1 = Doc2Vec(dm=0, vector_size=100, negative=5, hs=0, min_count=2, sample=0,  epochs=20) # decided model\n",
    "\n",
    "model2 = Doc2Vec(dm=1, vector_size=100, window=10, negative=5, hs=0, min_count=2, sample=0, \n",
    "                 epochs=20, alpha=0.05, comment='alpha=0.05') #low performance\n",
    "\n",
    "model3 = Doc2Vec(dm=1, dm_concat=1, vector_size=100, window=5, negative=5, hs=0, min_count=2, sample=0, epochs=20)"
   ]
  },
  {
   "cell_type": "code",
   "execution_count": 16,
   "metadata": {},
   "outputs": [
    {
     "name": "stdout",
     "output_type": "stream",
     "text": [
      "iteration 0\n"
     ]
    },
    {
     "name": "stderr",
     "output_type": "stream",
     "text": [
      "/Library/Frameworks/Python.framework/Versions/3.7/lib/python3.7/site-packages/ipykernel_launcher.py:7: DeprecationWarning: Call to deprecated `iter` (Attribute will be removed in 4.0.0, use self.epochs instead).\n",
      "  import sys\n"
     ]
    },
    {
     "name": "stdout",
     "output_type": "stream",
     "text": [
      "iteration 1\n",
      "iteration 2\n",
      "iteration 3\n",
      "iteration 4\n",
      "iteration 5\n",
      "iteration 6\n",
      "iteration 7\n",
      "iteration 8\n",
      "iteration 9\n",
      "iteration 10\n",
      "iteration 11\n",
      "iteration 12\n",
      "iteration 13\n",
      "iteration 14\n",
      "iteration 15\n",
      "iteration 16\n",
      "iteration 17\n",
      "iteration 18\n",
      "iteration 19\n",
      "iteration 20\n",
      "iteration 21\n",
      "iteration 22\n",
      "iteration 23\n",
      "iteration 24\n",
      "iteration 25\n",
      "iteration 26\n",
      "iteration 27\n",
      "iteration 28\n",
      "iteration 29\n",
      "iteration 30\n",
      "iteration 31\n",
      "iteration 32\n",
      "iteration 33\n",
      "iteration 34\n",
      "iteration 35\n",
      "iteration 36\n",
      "iteration 37\n",
      "iteration 38\n",
      "iteration 39\n",
      "iteration 40\n",
      "iteration 41\n",
      "iteration 42\n",
      "iteration 43\n",
      "iteration 44\n",
      "iteration 45\n",
      "iteration 46\n",
      "iteration 47\n",
      "iteration 48\n",
      "iteration 49\n",
      "iteration 50\n",
      "iteration 51\n",
      "iteration 52\n",
      "iteration 53\n",
      "iteration 54\n",
      "iteration 55\n",
      "iteration 56\n",
      "iteration 57\n",
      "iteration 58\n",
      "iteration 59\n",
      "iteration 60\n",
      "iteration 61\n",
      "iteration 62\n",
      "iteration 63\n",
      "iteration 64\n",
      "iteration 65\n",
      "iteration 66\n",
      "iteration 67\n",
      "iteration 68\n",
      "iteration 69\n",
      "iteration 70\n",
      "iteration 71\n",
      "iteration 72\n",
      "iteration 73\n",
      "iteration 74\n",
      "iteration 75\n",
      "iteration 76\n",
      "iteration 77\n",
      "iteration 78\n",
      "iteration 79\n",
      "iteration 80\n",
      "iteration 81\n",
      "iteration 82\n",
      "iteration 83\n",
      "iteration 84\n",
      "iteration 85\n",
      "iteration 86\n",
      "iteration 87\n",
      "iteration 88\n",
      "iteration 89\n",
      "iteration 90\n",
      "iteration 91\n",
      "iteration 92\n",
      "iteration 93\n",
      "iteration 94\n",
      "iteration 95\n",
      "iteration 96\n",
      "iteration 97\n",
      "iteration 98\n",
      "iteration 99\n",
      "Model Saved\n"
     ]
    }
   ],
   "source": [
    "model1.build_vocab(tagged_data)\n",
    "\n",
    "for epoch in range(max_epochs):\n",
    "    print('iteration {0}'.format(epoch))\n",
    "    model1.train(tagged_data,\n",
    "                total_examples=model1.corpus_count,\n",
    "                epochs=model1.iter)\n",
    "    # decrease the learning rate\n",
    "    model1.alpha -= 0.0002\n",
    "    # fix the learning rate, no decay\n",
    "    model1.min_alpha = model1.alpha\n",
    "model1.save(\"d2v.model1\")\n",
    "print(\"Model Saved\")"
   ]
  },
  {
   "cell_type": "code",
   "execution_count": 17,
   "metadata": {},
   "outputs": [
    {
     "name": "stdout",
     "output_type": "stream",
     "text": [
      "[('science', 0.560041069984436), ('fiction', 0.5553119778633118), ('fantasy', 0.3687794804573059), ('adventure', 0.35783618688583374), ('action', 0.346696674823761)]\n"
     ]
    }
   ],
   "source": [
    "# test overview of Avatar\n",
    "model= Doc2Vec.load(\"d2v.model1\")\n",
    "test_data = word_tokenize(\n",
    "    '22nd century paraplegic marine dispatched moon pandora unique mission becomes torn following order protecting alien civilization'.lower())\n",
    "v1 = model.infer_vector(test_data)\n",
    "\n",
    "print(model.docvecs.most_similar(positive=[v1], topn = 5))"
   ]
  },
  {
   "cell_type": "code",
   "execution_count": 18,
   "metadata": {},
   "outputs": [
    {
     "data": {
      "text/plain": [
       "'science fiction fantasy'"
      ]
     },
     "execution_count": 18,
     "metadata": {},
     "output_type": "execute_result"
    }
   ],
   "source": [
    "# extract top n most similar genres\n",
    "def similar_genres(overview, n = 3):\n",
    "    g = ''\n",
    "    model= Doc2Vec.load(\"d2v.model1\")\n",
    "    test_data = word_tokenize(overview.lower())\n",
    "    v1 = model.infer_vector(test_data)\n",
    "    genres = model.docvecs.most_similar(positive=[v1], topn = n)\n",
    "    for i in genres:\n",
    "        g = g+ \" \" + i[0]\n",
    "    g = g.strip()\n",
    "    return g\n",
    "\n",
    "# test function\n",
    "similar_genres(\n",
    "    '22nd century paraplegic marine dispatched moon pandora unique mission becomes torn following order protecting alien civilization')"
   ]
  },
  {
   "cell_type": "code",
   "execution_count": 19,
   "metadata": {},
   "outputs": [
    {
     "name": "stdout",
     "output_type": "stream",
     "text": [
      "Enter story: alien fight battle love fantacy\n"
     ]
    },
    {
     "name": "stderr",
     "output_type": "stream",
     "text": [
      "/Library/Frameworks/Python.framework/Versions/3.7/lib/python3.7/site-packages/ipykernel_launcher.py:5: SettingWithCopyWarning: \n",
      "A value is trying to be set on a copy of a slice from a DataFrame\n",
      "\n",
      "See the caveats in the documentation: http://pandas.pydata.org/pandas-docs/stable/user_guide/indexing.html#returning-a-view-versus-a-copy\n",
      "  \"\"\"\n"
     ]
    },
    {
     "name": "stdout",
     "output_type": "stream",
     "text": [
      "fiction science adventure fantasy animation\n",
      "      index  similarity                                      title  \\\n",
      "0         0       0.800                                     Avatar   \n",
      "46       46       0.800                 X-Men: Days of Future Past   \n",
      "61       61       0.800                          Jupiter Ascending   \n",
      "426     426       0.894                           The Hunger Games   \n",
      "977     977       0.913                             The Iron Giant   \n",
      "420     420       0.894                Hellboy II: The Golden Army   \n",
      "10       10       0.800                           Superman Returns   \n",
      "813     813       0.800                                   Superman   \n",
      "305     305       0.913                            Treasure Planet   \n",
      "67       67       0.800                         Monsters vs Aliens   \n",
      "870     870       0.800                                Superman II   \n",
      "168     168       0.845          Final Fantasy: The Spirits Within   \n",
      "419     419       0.894                                     Jumper   \n",
      "661     661       0.800                 Zathura: A Space Adventure   \n",
      "2258   2258       0.894                                   Steamboy   \n",
      "1277   1277       0.845                                      Delgo   \n",
      "3613   3613       0.800                         Digimon: The Movie   \n",
      "1984   1984       0.913                  The Thief and the Cobbler   \n",
      "3208   3208       0.913            Star Wars: Clone Wars: Volume 1   \n",
      "3494   3494       0.800  Beastmaster 2: Through the Portal of Time   \n",
      "\n",
      "      popularity  vote_average  \n",
      "0     150.437577           7.2  \n",
      "46    118.078691           7.5  \n",
      "61     85.369080           5.2  \n",
      "426    68.550698           6.9  \n",
      "977    61.245957           7.6  \n",
      "420    58.579760           6.5  \n",
      "10     57.925623           5.4  \n",
      "813    48.507081           6.9  \n",
      "305    38.924136           7.2  \n",
      "67     36.167578           6.0  \n",
      "870    30.515175           6.5  \n",
      "168    26.074908           5.9  \n",
      "419    21.218000           5.9  \n",
      "661    15.194239           6.1  \n",
      "2258    9.129808           6.4  \n",
      "1277    4.238482           5.4  \n",
      "3613    3.738700           6.2  \n",
      "1984    2.439184           6.8  \n",
      "3208    1.881466           8.0  \n",
      "3494    1.478505           4.6  \n"
     ]
    }
   ],
   "source": [
    "# movie recommendation based on common features\n",
    "def common_recom(n=5):\n",
    "    overview = input(\"Enter story: \")\n",
    "    common=movies\n",
    "    common.genres[len(common)]=similar_genres(overview, n)\n",
    "    common.reset_index()\n",
    "    \n",
    "    count_matrix=CountVectorizer().fit_transform(common['genres'])\n",
    "    cosine_sim=np.round(cosine_similarity(count_matrix), 3)\n",
    "    \n",
    "    index=len(common.genres)-1\n",
    "    similar_movies=list(enumerate(cosine_sim[index]))\n",
    "    similar_movies=pd.DataFrame(similar_movies, columns=['index', 'similarity'])\n",
    "    similar_movies=pd.merge(similar_movies, common[['index', 'title', 'popularity', 'vote_average']], on='index')\n",
    "    \n",
    "    similar_movies=similar_movies.sort_values(by='similarity', ascending=False)[:20]\n",
    "    similar_movies=similar_movies.sort_values(by='popularity', ascending=False)\n",
    "    #print('recommendation by commonplace')\n",
    "    #print(similar_movies[0:20])\n",
    "    #print('\\n')\n",
    "    print(similar_genres(overview, n))\n",
    "    print(similar_movies[0:20])\n",
    "\n",
    "# test function with Avatar overview\n",
    "common_recom()"
   ]
  },
  {
   "cell_type": "code",
   "execution_count": 43,
   "metadata": {},
   "outputs": [
    {
     "name": "stdout",
     "output_type": "stream",
     "text": [
      "Do you want a recommendation list by two movie names or a story?\n",
      " A.Enter movie names   B.Enter a story\n",
      "A\n",
      "Please enter the 1st movie:\n",
      "The Blue Lagoon\n",
      "Please enter the 2nd movie:\n",
      "The Thomas Crown Affair\n",
      "movie similarity:  0.0\n",
      "\n",
      "\n",
      "movie similarity:  0.0\n",
      "\n",
      "\n",
      "recommendation for  The Blue Lagoon\n",
      "      index  similarity                                  title  popularity  \\\n",
      "439     439       0.296                         Shutter Island   81.914696   \n",
      "384     384       0.380                              Cast Away   57.739713   \n",
      "495     495       0.242       Journey 2: The Mysterious Island   40.723459   \n",
      "1302   1302       0.338  Spy Kids 2: The Island of Lost Dreams   24.085144   \n",
      "1331   1331       0.255                           Nim's Island   14.353279   \n",
      "1238   1238       0.260               The Island of Dr. Moreau   13.210898   \n",
      "2953   2953       0.709              Return to the Blue Lagoon    9.705589   \n",
      "340     340       0.242                       Cutthroat Island    7.029308   \n",
      "3097   3097       0.273                             Swept Away    4.570043   \n",
      "\n",
      "      vote_average  \n",
      "439            7.8  \n",
      "384            7.5  \n",
      "495            5.8  \n",
      "1302           5.3  \n",
      "1331           5.6  \n",
      "1238           4.6  \n",
      "2953           5.1  \n",
      "340            5.7  \n",
      "3097           4.8  \n",
      "\n",
      "\n",
      "recommendation for  The Thomas Crown Affair\n",
      "      index  similarity                   title  popularity  vote_average\n",
      "1309   1309       0.241           Heartbreakers   13.932203           5.7\n",
      "497     497       0.214              Red Dragon   10.083905           6.7\n",
      "2761   2761       0.214              Dirty Work    9.066881           6.5\n",
      "2347   2347       0.222                    Fame    7.668063           5.5\n",
      "1862   1862       0.242             Beauty Shop    5.625632           5.4\n",
      "3966   3966       0.222             Point Blank    5.164423           7.1\n",
      "3820   3820       0.226              The Pirate    0.905220           6.6\n",
      "4751   4751       0.226                Gabriela    0.557602           6.0\n",
      "4057   4057       0.226  The Valley of Decision    0.181300           5.8\n",
      "\n",
      "\n"
     ]
    }
   ],
   "source": [
    "main()"
   ]
  },
  {
   "cell_type": "code",
   "execution_count": 87,
   "metadata": {},
   "outputs": [
    {
     "name": "stdout",
     "output_type": "stream",
     "text": [
      "Do you want a recommendation list by two movie names or a story?\n",
      " A.Enter movie names   B.Enter a story\n",
      "b\n",
      "Enter story: titanic love thrill young\n",
      "romance adventure drama nan crime\n",
      "      index  similarity                                      title  \\\n",
      "172     172       0.671  The Twilight Saga: Breaking Dawn - Part 2   \n",
      "2515   2515       0.671             Crouching Tiger, Hidden Dragon   \n",
      "3695   3695       0.775                            The Blue Lagoon   \n",
      "1025   1025       0.775                    The Thomas Crown Affair   \n",
      "2175   2175       0.671                                  Ladyhawke   \n",
      "2953   2953       0.775                  Return to the Blue Lagoon   \n",
      "1263   1263       0.775                                Big Miracle   \n",
      "2467   2467       0.775                                   Baby Boy   \n",
      "2858   2858       0.775             The Postman Always Rings Twice   \n",
      "2474   2474       0.671                    Arn: The Knight Templar   \n",
      "3810   3810       0.775                           The Perfect Wave   \n",
      "2796   2796       0.775                      The Prisoner of Zenda   \n",
      "4211   4211       0.775                        Mississippi Mermaid   \n",
      "2885   2885       0.775                               Married Life   \n",
      "4397   4397       0.671                             Alone With Her   \n",
      "4084   4084       0.775                                  Boom Town   \n",
      "1474   1474       0.775                        I Dreamed of Africa   \n",
      "2708   2708       0.671                                   Caravans   \n",
      "4529   4529       0.775                          Hurricane Streets   \n",
      "4393   4393       0.775                             Speedway Junky   \n",
      "\n",
      "      popularity  vote_average  \n",
      "172    99.687084           6.1  \n",
      "2515   45.742254           7.2  \n",
      "3695   22.585384           5.8  \n",
      "1025   18.102572           6.6  \n",
      "2175   14.370111           6.8  \n",
      "2953    9.705589           5.1  \n",
      "1263    8.303696           6.6  \n",
      "2467    7.854989           7.4  \n",
      "2858    6.803763           6.4  \n",
      "2474    6.091033           6.4  \n",
      "3810    4.118612           4.4  \n",
      "2796    4.021389           8.4  \n",
      "4211    3.654018           6.7  \n",
      "2885    3.004432           6.1  \n",
      "4397    2.175696           6.2  \n",
      "4084    1.867004           6.5  \n",
      "1474    1.656695           5.3  \n",
      "2708    0.633004           5.8  \n",
      "4529    0.364470           4.8  \n",
      "4393    0.340019           5.2  \n"
     ]
    }
   ],
   "source": [
    "main()"
   ]
  },
  {
   "cell_type": "code",
   "execution_count": null,
   "metadata": {},
   "outputs": [],
   "source": []
  }
 ],
 "metadata": {
  "kernelspec": {
   "display_name": "Python 3",
   "language": "python",
   "name": "python3"
  },
  "language_info": {
   "codemirror_mode": {
    "name": "ipython",
    "version": 3
   },
   "file_extension": ".py",
   "mimetype": "text/x-python",
   "name": "python",
   "nbconvert_exporter": "python",
   "pygments_lexer": "ipython3",
   "version": "3.7.2"
  }
 },
 "nbformat": 4,
 "nbformat_minor": 2
}
