{
 "cells": [
  {
   "cell_type": "markdown",
   "metadata": {},
   "source": [
    "# Project 2 - Team Hot Dog\n",
    "\n",
    "Dongru Jia: Model 2, Design Poster  \n",
    "Jianhao Ji: Model 1, Data Cleaning  \n",
    "Miao Wang: Model 1, Data Cleaning  \n",
    "Yuxuan Yao: Model 2, Pring Poster"
   ]
  },
  {
   "cell_type": "code",
   "execution_count": 1,
   "metadata": {},
   "outputs": [],
   "source": [
    "import pandas as pd \n",
    "import numpy as np\n",
    "import re\n",
    "from sklearn.feature_extraction.text import CountVectorizer\n",
    "from sklearn.metrics.pairwise import cosine_similarity\n",
    "import string\n",
    "import csv\n",
    "import nltk\n",
    "from nltk.corpus import stopwords\n",
    "from gensim.models.doc2vec import Doc2Vec, TaggedDocument\n",
    "from nltk.tokenize import word_tokenize\n",
    "from sklearn.cluster import KMeans\n",
    "from sklearn.metrics import silhouette_score\n",
    "import matplotlib.pyplot as plt\n",
    "import warnings\n",
    "warnings.filterwarnings(\"ignore\")"
   ]
  },
  {
   "cell_type": "code",
   "execution_count": null,
   "metadata": {},
   "outputs": [],
   "source": []
  },
  {
   "cell_type": "markdown",
   "metadata": {},
   "source": [
    "# Dataset"
   ]
  },
  {
   "cell_type": "markdown",
   "metadata": {},
   "source": [
    "Our dataset are from Kaggle.com, which includes more than 4800 movies from The Movie Database (TMDB). Features include movie title, tagline, genres, overview, keywords, cast,  audience ratings, popularity, vote count and etc. Among them, several important variables are listed as below:\n",
    " \n",
    "Columns in ‘Tmdb_5000_credits.csv’:\n",
    "Title: Movie name - System return label, \n",
    "Cast: Cast and character list - Potential model feature, \n",
    "Crew: Firm crew team - Potential model feature\n",
    " \n",
    "Columns in ‘Tmdb_5000_movies.csv’:\n",
    "Genres: Movie type - Feature or label in two recommendation models, \n",
    "Keywords: Views summarized movie keywords - Model feature, \n",
    "Overview: Brief movie summary - Model feature, \n",
    "Popularity: Movie popularity - Ranking conference for return labels, \n",
    "Production_ companies: Movie production companies - Model feature, \n",
    "Title: Movie name - System return label, \n",
    "Vote_average: Viewer overall vote score - Final return table display\n",
    "\n",
    "In order to prepare our data for further analysis, we combined the columns of keywords, genres, comproduction company and title, and generated as a new comprehensive feature in the first model. In the second model, we simply used overview as training feature and genres  as labels or document tags."
   ]
  },
  {
   "cell_type": "markdown",
   "metadata": {},
   "source": [
    "## Data Cleaning"
   ]
  },
  {
   "cell_type": "code",
   "execution_count": 2,
   "metadata": {},
   "outputs": [],
   "source": [
    "# Read data\n",
    "raw = pd.read_csv('tmdb_5000_credits.csv')\n",
    "data= pd.read_csv('tmdb_5000_movies.csv')"
   ]
  },
  {
   "cell_type": "code",
   "execution_count": 3,
   "metadata": {},
   "outputs": [],
   "source": [
    "# Extract the cast list from 'tmdb_5000_credits.csv'\n",
    "# Find the length of the cast list\n",
    "def count_cast(string):\n",
    "    count_name = string.count('name')\n",
    "    return count_name\n",
    "# Every name locates between the tag 'name' and 'order', this fuction is to find the index of each tag\n",
    "def findStr(string, subStr, findCnt):\n",
    "    listStr = string.split(subStr,findCnt)\n",
    "    if len(listStr) <= findCnt:\n",
    "        return -1\n",
    "    return len(string)-len(listStr[-1])-len(subStr)\n",
    "# Extract every name in the long messy list\n",
    "raw = raw.assign(cast_list=\"\")\n",
    "for n in range(len(raw)):\n",
    "    cast = ''\n",
    "    allname = raw['cast'].iloc[n]\n",
    "    \n",
    "    for i in range(1,count_cast(allname)+1):\n",
    "        name = findStr(allname,'name',i)\n",
    "        order = findStr(allname,'order',i)  \n",
    "        cast = cast + allname[name+8:order-4]+', '        \n",
    "    raw['cast_list'].iloc[n] = cast\n",
    "    \n",
    "raw = raw.drop(['cast'], axis = 1)\n",
    "raw.to_csv(\"cleaned credits.csv\")"
   ]
  },
  {
   "cell_type": "code",
   "execution_count": 4,
   "metadata": {},
   "outputs": [],
   "source": [
    "#'tmdb_5000_credits.csv' data format\n",
    "def moviewords(col):\n",
    "    new_col=[]\n",
    "    for i in data[col]:\n",
    "        i=str(i)\n",
    "        i=i.lower()\n",
    "        i=re.sub('[0-9]', '', i)\n",
    "        i=re.sub('name|id', '', i)\n",
    "        i=re.sub('{\"\": , \"\": \"|\"}', '', i)\n",
    "        i=re.sub('\\\\[|\\\\]', '', i)\n",
    "        i=re.sub('{\"\": \"|\", \"\": }', '', i)\n",
    "        new_col.append(i)\n",
    "    return new_col"
   ]
  },
  {
   "cell_type": "code",
   "execution_count": 5,
   "metadata": {},
   "outputs": [],
   "source": [
    "#modified data frame\n",
    "modify=data[['id', 'title', 'overview', 'popularity', 'budget', 'revenue',\n",
    "             'runtime', 'vote_average', 'vote_count']]\n",
    "\n",
    "modify['cast']=raw['cast_list'] #extract cast list from the 1st dataset\n",
    "modify['genres']=moviewords('genres') #format genres\n",
    "modify['keywords']=moviewords('keywords') #format keywords\n",
    "modify['production_companies']=moviewords('production_companies') #format companies\n",
    "modify['features']=modify['keywords']+modify['production_companies']+modify['genres']+modify['title'] #combine needed features\n",
    "#modify['features']=modify['keywords']+modify['production_companies']+modify['genres']+modify['title']+credit['cast_list']\n",
    "modify['index']=list(range(0, len(modify))) #create movie index for future matrix combine  \n",
    "modify=modify.drop_duplicates() #drop duplicates\n",
    "modify=modify.fillna('') #drop mising value\n",
    "modify['title'] = modify['title'].str.lower() #convert all movie names to lowercases\n",
    "modify.to_csv('modified data.csv', index=False)\n",
    "\n",
    "\n"
   ]
  },
  {
   "cell_type": "markdown",
   "metadata": {},
   "source": [
    "## Main function - the user could choose the recommendation list by movies names or a short story"
   ]
  },
  {
   "cell_type": "code",
   "execution_count": 6,
   "metadata": {},
   "outputs": [],
   "source": [
    "def main():\n",
    "    ans = input('Do you want a recommendation list by two movie names or a story?\\n A.Enter movie names   B.Enter a story\\n')\n",
    "    if ans == 'A' or ans == 'a':\n",
    "        overall_recommendation()\n",
    "    if ans == 'B' or ans == 'b': \n",
    "        common_recom()"
   ]
  },
  {
   "cell_type": "markdown",
   "metadata": {},
   "source": [
    "# Procedure"
   ]
  },
  {
   "cell_type": "markdown",
   "metadata": {},
   "source": [
    "This whole recommendation system was first designed as an assembly of three models: clustering model based on numerical data columns, Cosine Similarity model based on overall features, and Doc2Vec model based on overview. Although we ended up using only Cosine Similarity model and Doc2Vec, we have tried various approaches, with different features. Below is a brief walk-through for what we did for each of the models."
   ]
  },
  {
   "cell_type": "markdown",
   "metadata": {},
   "source": [
    "## Cosine similarity model - Movie recommendation by entering movie names"
   ]
  },
  {
   "cell_type": "markdown",
   "metadata": {},
   "source": [
    "Cosine similarity model is based on the Euclidean dot product formula. The idea of the cosine similarity model is to compare the word similarity between two vectors that are converted by words features. At first, we choose cast, crew, title, genres, keywords, and production companies as our overall features to perform cosine similarity model, while the returning label is movie title. However, as the model gives the feedback, the return label is out of our interpretation. The main reason for unexpected label is that even for series movies the cast and crew features can be various. Thus, we decide to remove cast and crew. The new model gives us a good feedback."
   ]
  },
  {
   "cell_type": "code",
   "execution_count": 7,
   "metadata": {},
   "outputs": [],
   "source": [
    "# Calculate cosine similarity between the two input movies\n",
    "def movie_similar(movie_names):\n",
    "    \n",
    "    movie_1=modify[modify['title']==movie_names[0]]\n",
    "    movie_2=modify[modify['title']==movie_names[1]]\n",
    "    movies_df=pd.concat([movie_1, movie_2], axis=0)\n",
    "    count_matrix=CountVectorizer().fit_transform(movies_df['features'])\n",
    "    cosine_sim=np.round(cosine_similarity(count_matrix), 3)\n",
    "    sim=cosine_sim[0,1]\n",
    "    print('movie similarity: ', sim)\n",
    "    print('\\n')\n",
    "    return sim"
   ]
  },
  {
   "cell_type": "code",
   "execution_count": 8,
   "metadata": {},
   "outputs": [],
   "source": [
    "# If the input movies are pretty similar, return to the recommendation list based on common features\n",
    "def common_recom(movie_names):\n",
    "    common=modify\n",
    "    movie_1=common[common['title']==movie_names[0]]\n",
    "    movie_2=common[common['title']==movie_names[1]]\n",
    "    common_in_movies=pd.concat([movie_1, movie_2], ignore_index=True)\n",
    "    common.features[len(common)]=common_in_movies.features[0]+''+common_in_movies.features[1]\n",
    "    \n",
    "    count_matrix=CountVectorizer().fit_transform(common['features'])\n",
    "    cosine_sim=np.round(cosine_similarity(count_matrix), 3)\n",
    "    \n",
    "    index=4803\n",
    "    similar_movies=list(enumerate(cosine_sim[index]))\n",
    "    similar_movies=pd.DataFrame(similar_movies, columns=['index', 'similarity'])\n",
    "    similar_movies=pd.merge(similar_movies, common[['index', 'title','popularity','vote_average']], on='index')\n",
    "    def similar_movies_index(title):\n",
    "        return similar_movies.index[similar_movies['title']==title].values[0]\n",
    "    similar_movies=similar_movies.drop(index=[similar_movies_index(movie_names[0]),\n",
    "                                        similar_movies_index(movie_names[1])])\n",
    "    similar_movies=similar_movies.sort_values(by='similarity', ascending=False)\n",
    "    similar_movies=similar_movies[0:10]\n",
    "    print('recommendation by commonplace')\n",
    "    print(similar_movies.sort_values(by = 'popularity',ascending = False))\n",
    "    print('\\n')\n",
    "    return similar_movies.sort_values(by = 'popularity',ascending = False)"
   ]
  },
  {
   "cell_type": "code",
   "execution_count": 9,
   "metadata": {},
   "outputs": [],
   "source": [
    "# If input movies are not similar, seperate movie recommendation\n",
    "def movie_recom(movie_names):\n",
    "    count_matrix=CountVectorizer().fit_transform(modify['features'])\n",
    "    cosine_sim=np.round(cosine_similarity(count_matrix), 3)\n",
    "    def movie_index(title):\n",
    "        return modify.index[modify['title']==title].values[0]\n",
    "    for movie_name in movie_names:\n",
    "        index=movie_index(movie_name)\n",
    "        similar_movies=list(enumerate(cosine_sim[index]))\n",
    "        similar_movies=pd.DataFrame(similar_movies, columns=['index', 'similarity'])\n",
    "        similar_movies=pd.merge(similar_movies, modify[['index', 'title','popularity','vote_average']], on='index')\n",
    "        similar_movies=similar_movies.sort_values(by='similarity', ascending=False)\n",
    "        similar_movies = similar_movies[1:10]\n",
    "        print('recommendation for ', movie_name)\n",
    "        print(similar_movies.sort_values(by = 'popularity',ascending = False))\n",
    "        print('\\n')\n",
    "    return similar_movies.sort_values(by = 'popularity',ascending = False)"
   ]
  },
  {
   "cell_type": "code",
   "execution_count": 10,
   "metadata": {},
   "outputs": [],
   "source": [
    "# Combine the above situation and provide an overall recommendation\n",
    "def overall_recommendation():\n",
    "    movie01 = str(input('Please enter the 1st movie:\\n')).lower()\n",
    "    movie02 = str(input('Please enter the 2nd movie:\\n')).lower()\n",
    "    movie_names = [movie01, movie02]\n",
    "    if movie_similar(movie_names) > 0.15:\n",
    "        common_recom(movie_names)\n",
    "    else:\n",
    "        movie_recom(movie_names)"
   ]
  },
  {
   "cell_type": "code",
   "execution_count": 11,
   "metadata": {},
   "outputs": [
    {
     "name": "stdout",
     "output_type": "stream",
     "text": [
      "Please enter the 1st movie:\n",
      "Spider-Man\n",
      "Please enter the 2nd movie:\n",
      "the avengers\n",
      "movie similarity:  0.374\n",
      "\n",
      "\n",
      "recommendation by commonplace\n",
      "     index  similarity                                title  popularity  \\\n",
      "26      26       0.481           captain america: civil war  198.372395   \n",
      "7        7       0.553              avengers: age of ultron  134.279229   \n",
      "68      68       0.470                             iron man  120.725053   \n",
      "182    182       0.663                              ant-man  120.093610   \n",
      "126    126       0.535                 thor: the dark world   99.499595   \n",
      "129    129       0.516                                 thor   86.493424   \n",
      "79      79       0.592                           iron man 2   77.300194   \n",
      "85      85       0.503  captain america: the winter soldier   72.225265   \n",
      "174    174       0.535                  the incredible hulk   62.898336   \n",
      "203    203       0.463                                   x2    2.871739   \n",
      "\n",
      "     vote_average  \n",
      "26            7.1  \n",
      "7             7.3  \n",
      "68            7.4  \n",
      "182           7.0  \n",
      "126           6.8  \n",
      "129           6.6  \n",
      "79            6.6  \n",
      "85            7.6  \n",
      "174           6.1  \n",
      "203           6.8  \n",
      "\n",
      "\n"
     ]
    }
   ],
   "source": [
    "# model test\n",
    "overall_recommendation()"
   ]
  },
  {
   "cell_type": "markdown",
   "metadata": {},
   "source": [
    "## Doc2Vec - Movie recommendation by entering keywords or stories"
   ]
  },
  {
   "cell_type": "markdown",
   "metadata": {},
   "source": [
    "When training this model and deciding the best parameters, we set up three models with different parameters, for example learning rate, vector size, max number of iterations, etc. To pick model that performs the best, we simply used human interpretability to determine whether the results make sense. And we found the default model has the highest performance."
   ]
  },
  {
   "cell_type": "code",
   "execution_count": 12,
   "metadata": {},
   "outputs": [],
   "source": [
    "movies = pd.read_csv(\"modified data.csv\")"
   ]
  },
  {
   "cell_type": "code",
   "execution_count": 13,
   "metadata": {},
   "outputs": [],
   "source": [
    "# Clean stopwords and punctuation and to lowercase training data (overview and genres)\n",
    "def token_clean(name):\n",
    "    lemma = nltk.wordnet.WordNetLemmatizer()\n",
    "    name_list = []\n",
    "    movies[name] = movies[name].astype(str)\n",
    "    for index,row in movies.iterrows():\n",
    "        text = row[name]\n",
    "        text = re.sub(r'\\b\\d+\\b', '', text)\n",
    "        tokens = nltk.word_tokenize(text)\n",
    "        tokens = [token.lower() for token in tokens if token.lower() not in stopwords.words('english')]\n",
    "        tokens = [term for term in tokens if term not in string.punctuation]\n",
    "        tokens = [lemma.lemmatize(token) for token in tokens]\n",
    "        new_fea = ' '.join(tokens)\n",
    "        name_list.append(new_fea)\n",
    "    return name_list"
   ]
  },
  {
   "cell_type": "code",
   "execution_count": 14,
   "metadata": {},
   "outputs": [],
   "source": [
    "overview = token_clean(\"overview\")\n",
    "genres = token_clean(\"genres\")\n",
    "movies[\"genres\"] = genres\n",
    "data = overview\n",
    "tags = genres\n",
    "tagged_data = [TaggedDocument(words=nltk.word_tokenize(d), tags=nltk.word_tokenize(str(tags[i]))) for i, d in enumerate(data)]"
   ]
  },
  {
   "cell_type": "code",
   "execution_count": 15,
   "metadata": {},
   "outputs": [],
   "source": [
    "max_epochs = 100\n",
    "\n",
    "model = Doc2Vec(size=20, alpha=0.025,  min_alpha=0.00025, min_count=1, dm =1) # low performance\n",
    "\n",
    "model1 = Doc2Vec(dm=0, vector_size=100, negative=5, hs=0, min_count=2, sample=0,  epochs=20) # decided model\n",
    "\n",
    "model2 = Doc2Vec(dm=1, vector_size=100, window=10, negative=5, hs=0, min_count=2, sample=0, \n",
    "                 epochs=20, alpha=0.05, comment='alpha=0.05') #low performance\n",
    "\n",
    "model3 = Doc2Vec(dm=1, dm_concat=1, vector_size=100, window=5, negative=5, hs=0, min_count=2, sample=0, epochs=20)"
   ]
  },
  {
   "cell_type": "code",
   "execution_count": 16,
   "metadata": {},
   "outputs": [
    {
     "name": "stdout",
     "output_type": "stream",
     "text": [
      "iteration 0\n",
      "iteration 1\n",
      "iteration 2\n",
      "iteration 3\n",
      "iteration 4\n",
      "iteration 5\n",
      "iteration 6\n",
      "iteration 7\n",
      "iteration 8\n",
      "iteration 9\n",
      "iteration 10\n",
      "iteration 11\n",
      "iteration 12\n",
      "iteration 13\n",
      "iteration 14\n",
      "iteration 15\n",
      "iteration 16\n",
      "iteration 17\n",
      "iteration 18\n",
      "iteration 19\n",
      "iteration 20\n",
      "iteration 21\n",
      "iteration 22\n",
      "iteration 23\n",
      "iteration 24\n",
      "iteration 25\n",
      "iteration 26\n",
      "iteration 27\n",
      "iteration 28\n",
      "iteration 29\n",
      "iteration 30\n",
      "iteration 31\n",
      "iteration 32\n",
      "iteration 33\n",
      "iteration 34\n",
      "iteration 35\n",
      "iteration 36\n",
      "iteration 37\n",
      "iteration 38\n",
      "iteration 39\n",
      "iteration 40\n",
      "iteration 41\n",
      "iteration 42\n",
      "iteration 43\n",
      "iteration 44\n",
      "iteration 45\n",
      "iteration 46\n",
      "iteration 47\n",
      "iteration 48\n",
      "iteration 49\n",
      "iteration 50\n",
      "iteration 51\n",
      "iteration 52\n",
      "iteration 53\n",
      "iteration 54\n",
      "iteration 55\n",
      "iteration 56\n",
      "iteration 57\n",
      "iteration 58\n",
      "iteration 59\n",
      "iteration 60\n",
      "iteration 61\n",
      "iteration 62\n",
      "iteration 63\n",
      "iteration 64\n",
      "iteration 65\n",
      "iteration 66\n",
      "iteration 67\n",
      "iteration 68\n",
      "iteration 69\n",
      "iteration 70\n",
      "iteration 71\n",
      "iteration 72\n",
      "iteration 73\n",
      "iteration 74\n",
      "iteration 75\n",
      "iteration 76\n",
      "iteration 77\n",
      "iteration 78\n",
      "iteration 79\n",
      "iteration 80\n",
      "iteration 81\n",
      "iteration 82\n",
      "iteration 83\n",
      "iteration 84\n",
      "iteration 85\n",
      "iteration 86\n",
      "iteration 87\n",
      "iteration 88\n",
      "iteration 89\n",
      "iteration 90\n",
      "iteration 91\n",
      "iteration 92\n",
      "iteration 93\n",
      "iteration 94\n",
      "iteration 95\n",
      "iteration 96\n",
      "iteration 97\n",
      "iteration 98\n",
      "iteration 99\n",
      "Model Saved\n"
     ]
    }
   ],
   "source": [
    "model1.build_vocab(tagged_data)\n",
    "\n",
    "for epoch in range(max_epochs):\n",
    "    print('iteration {0}'.format(epoch))\n",
    "    model1.train(tagged_data,\n",
    "                total_examples=model1.corpus_count,\n",
    "                epochs=model1.iter)\n",
    "    # decrease the learning rate\n",
    "    model1.alpha -= 0.0002\n",
    "    # fix the learning rate, no decay\n",
    "    model1.min_alpha = model1.alpha\n",
    "model1.save(\"d2v.model1\")\n",
    "print(\"Model Saved\")"
   ]
  },
  {
   "cell_type": "code",
   "execution_count": 17,
   "metadata": {},
   "outputs": [
    {
     "name": "stdout",
     "output_type": "stream",
     "text": [
      "[('science', 0.5613155364990234), ('fiction', 0.5505940318107605), ('fantasy', 0.3485146164894104), ('adventure', 0.34481221437454224), ('action', 0.3408849835395813)]\n"
     ]
    }
   ],
   "source": [
    "# test overview of Avatar\n",
    "model= Doc2Vec.load(\"d2v.model1\")\n",
    "test_data = word_tokenize(\n",
    "    '22nd century paraplegic marine dispatched moon pandora unique mission becomes torn following order protecting alien civilization'.lower())\n",
    "v1 = model.infer_vector(test_data)\n",
    "\n",
    "print(model.docvecs.most_similar(positive=[v1], topn = 5))"
   ]
  },
  {
   "cell_type": "code",
   "execution_count": 18,
   "metadata": {},
   "outputs": [
    {
     "data": {
      "text/plain": [
       "'science fiction fantasy'"
      ]
     },
     "execution_count": 18,
     "metadata": {},
     "output_type": "execute_result"
    }
   ],
   "source": [
    "# Extract top n most similar genres\n",
    "def similar_genres(overview, n = 3):\n",
    "    g = ''\n",
    "    model= Doc2Vec.load(\"d2v.model1\")\n",
    "    test_data = word_tokenize(overview.lower())\n",
    "    v1 = model.infer_vector(test_data)\n",
    "    genres = model.docvecs.most_similar(positive=[v1], topn = n)\n",
    "    for i in genres:\n",
    "        g = g+ \" \" + i[0]\n",
    "    g = g.strip()\n",
    "    return g\n",
    "\n",
    "# test function\n",
    "similar_genres(\n",
    "    '22nd century paraplegic marine dispatched moon pandora unique mission becomes torn following order protecting alien civilization')"
   ]
  },
  {
   "cell_type": "code",
   "execution_count": 19,
   "metadata": {},
   "outputs": [
    {
     "name": "stdout",
     "output_type": "stream",
     "text": [
      "Enter story: A young man and a young woman fell in love\n",
      "romance fantasy movie tv thriller\n",
      "      index  similarity                                 title  popularity  \\\n",
      "100     100       0.600   the curious case of benjamin button   60.269279   \n",
      "2108   2108       0.516                   edward scissorhands   47.513630   \n",
      "1132   1132       0.516                       red riding hood   45.151657   \n",
      "2017   2017       0.600                                 ghost   41.967005   \n",
      "295     295       0.516                           the tourist   41.426678   \n",
      "2438   2438       0.671                       the illusionist   36.960953   \n",
      "2441   2441       0.632                escobar: paradise lost   25.112567   \n",
      "2685   2685       0.516              exorcist ii: the heretic   11.543363   \n",
      "3907   3907       0.516  jason goes to hell: the final friday   10.341982   \n",
      "3803   3803       0.632                           inescapable    6.783053   \n",
      "4289   4289       0.516               da sweet blood of jesus    4.480579   \n",
      "1669   1669       0.600                           the promise    3.866026   \n",
      "1449   1449       0.548                             the order    3.746806   \n",
      "3809   3809       0.671                   how to fall in love    1.923514   \n",
      "4756   4756       0.516                   the call of cthulhu    1.777148   \n",
      "4056   4056       0.632                          impact point    1.532518   \n",
      "4800   4800       0.600             signed, sealed, delivered    1.444476   \n",
      "3285   3285       0.671                              restless    0.812776   \n",
      "3655   3655       0.632                           fascination    0.219799   \n",
      "3665   3665       0.600                  we have your husband    0.102003   \n",
      "\n",
      "      vote_average  \n",
      "100            7.3  \n",
      "2108           7.5  \n",
      "1132           5.6  \n",
      "2017           6.9  \n",
      "295            6.0  \n",
      "2438           7.1  \n",
      "2441           6.1  \n",
      "2685           4.5  \n",
      "3907           4.2  \n",
      "3803           5.2  \n",
      "4289           4.1  \n",
      "1669           5.0  \n",
      "1449           4.8  \n",
      "3809           5.2  \n",
      "4756           6.9  \n",
      "4056           5.7  \n",
      "4800           7.0  \n",
      "3285           4.9  \n",
      "3655           3.8  \n",
      "3665           5.0  \n"
     ]
    }
   ],
   "source": [
    "# Movie recommendation based on common features\n",
    "def common_recom(n=5):\n",
    "    overview = input(\"Enter story: \")\n",
    "    common=movies\n",
    "    common.genres[len(common)]=similar_genres(overview, n)\n",
    "    common.reset_index()\n",
    "    \n",
    "    count_matrix=CountVectorizer().fit_transform(common['genres'])\n",
    "    cosine_sim=np.round(cosine_similarity(count_matrix), 3)\n",
    "    \n",
    "    index=len(common.genres)-1\n",
    "    similar_movies=list(enumerate(cosine_sim[index]))\n",
    "    similar_movies=pd.DataFrame(similar_movies, columns=['index', 'similarity'])\n",
    "    similar_movies=pd.merge(similar_movies, common[['index', 'title', 'popularity', 'vote_average']], on='index')\n",
    "    \n",
    "    similar_movies=similar_movies.sort_values(by='similarity', ascending=False)[:20]\n",
    "    similar_movies=similar_movies.sort_values(by='popularity', ascending=False)\n",
    "    #print('recommendation by commonplace')\n",
    "    #print(similar_movies[0:20])\n",
    "    #print('\\n')\n",
    "    print(similar_genres(overview, n))\n",
    "    print(similar_movies[0:20])\n",
    "\n",
    "# Test function with a short story\n",
    "common_recom()"
   ]
  },
  {
   "cell_type": "markdown",
   "metadata": {},
   "source": [
    "# Clustering model - discarded for final output"
   ]
  },
  {
   "cell_type": "markdown",
   "metadata": {},
   "source": [
    "The main idea of applying clustering model to numeric variables is to determine whether there are distinct divides of movies based on their different parameters, such as “Budget”, and “Vote_average”. In our case, we used KMeans clustering; however, the result is not promising. Although the Silhouette Scores for models with different “K’s” are ok, we can not come to an appropriate interpretation for each cluster. Especially, the system we are trying to build here is to recommend movies based on their story and genres. Hence, we have no choice but to remove this model from our final output."
   ]
  },
  {
   "cell_type": "code",
   "execution_count": 20,
   "metadata": {},
   "outputs": [],
   "source": [
    "# dimension reduction\n",
    "movies_clu = pd.read_csv(\"modified data.csv\")\n",
    "movies_clu = movies_clu[[\"title\", \"popularity\", \"budget\", \"revenue\", \"runtime\", \"vote_average\"]]\n",
    "movies_clu.index = movies_clu.title\n",
    "movies_clu = movies_clu[[\"budget\", \"vote_average\"]]\n",
    "\n",
    "#normalize data to one or two digits\n",
    "movies_clu[\"budget\"] = movies_clu[\"budget\"]/1000000\n",
    "movies_clu[\"vote_average\"] = movies_clu[\"vote_average\"]*10\n",
    "#movies_clu[\"revenue\"] = movies_clu[\"revenue\"]/1000000"
   ]
  },
  {
   "cell_type": "code",
   "execution_count": 21,
   "metadata": {},
   "outputs": [
    {
     "data": {
      "text/plain": [
       "Text(0, 0.5, 'SSE')"
      ]
     },
     "execution_count": 21,
     "metadata": {},
     "output_type": "execute_result"
    },
    {
     "data": {
      "image/png": "[encoded data removed]",
      "text/plain": [
       "<Figure size 432x288 with 1 Axes>"
      ]
     },
     "metadata": {
      "needs_background": "light"
     },
     "output_type": "display_data"
    }
   ],
   "source": [
    "# elbow graph for different number of clusters\n",
    "sse = {}\n",
    "data_clu = movies_clu\n",
    "for k in range(2, 9):\n",
    "    kmeans = KMeans(n_clusters=k, max_iter=1000).fit(data_clu)\n",
    "    data_clu[\"clusters\"] = kmeans.labels_\n",
    "    #print(data[\"clusters\"])\n",
    "    sse[k] = kmeans.inertia_ # Inertia: Sum of distances of samples to their closest cluster center\n",
    "fig = plt.figure()\n",
    "plt.plot(list(sse.keys()), list(sse.values()))\n",
    "plt.xlabel(\"Number of cluster\")\n",
    "plt.ylabel(\"SSE\")\n",
    "#plt.show()"
   ]
  },
  {
   "cell_type": "code",
   "execution_count": 22,
   "metadata": {},
   "outputs": [
    {
     "name": "stdout",
     "output_type": "stream",
     "text": [
      "Number of clusters from 2 to 9: \n",
      " [2, 3, 4, 5, 6, 7, 8, 9]\n",
      "For n_clusters = 2, silhouette score is 0.6716407108832871)\n",
      "For n_clusters = 3, silhouette score is 0.5723511781979906)\n",
      "For n_clusters = 4, silhouette score is 0.456040665546396)\n",
      "For n_clusters = 5, silhouette score is 0.43136673574531464)\n",
      "For n_clusters = 6, silhouette score is 0.4340383083279029)\n",
      "For n_clusters = 7, silhouette score is 0.43245274124133)\n",
      "For n_clusters = 8, silhouette score is 0.4377027633601434)\n",
      "For n_clusters = 9, silhouette score is 0.4218794198123789)\n"
     ]
    }
   ],
   "source": [
    "# evaluating number of clusters\n",
    "range_n_clusters = list (range(2,10))\n",
    "print (\"Number of clusters from 2 to 9: \\n\", range_n_clusters)\n",
    "\n",
    "for n in range_n_clusters:\n",
    "    clusterer = KMeans(n_clusters=n).fit(data_clu)\n",
    "    preds = clusterer.predict(data_clu)\n",
    "\n",
    "    score = silhouette_score(data_clu, preds, metric='euclidean')\n",
    "    print (\"For n_clusters = {}, silhouette score is {})\".format(n, score))"
   ]
  },
  {
   "cell_type": "markdown",
   "metadata": {},
   "source": [
    "## Overall testing"
   ]
  },
  {
   "cell_type": "code",
   "execution_count": 24,
   "metadata": {},
   "outputs": [
    {
     "name": "stdout",
     "output_type": "stream",
     "text": [
      "Do you want a recommendation list by two movie names or a story?\n",
      " A.Enter movie names   B.Enter a story\n",
      "A\n",
      "Please enter the 1st movie:\n",
      "Iron Man\n",
      "Please enter the 2nd movie:\n",
      "Star Wars\n",
      "movie similarity:  0.031\n",
      "\n",
      "\n",
      "recommendation for  iron man\n",
      "     index  similarity                                title  popularity  \\\n",
      "16      16       0.507                         the avengers  144.448633   \n",
      "7        7       0.493              avengers: age of ultron  134.279229   \n",
      "182    182       0.649                              ant-man  120.093610   \n",
      "126    126       0.520                 thor: the dark world   99.499595   \n",
      "129    129       0.471                                 thor   86.493424   \n",
      "31      31       0.688                           iron man 3   77.682080   \n",
      "79      79       0.649                           iron man 2   77.300194   \n",
      "85      85       0.500  captain america: the winter soldier   72.225265   \n",
      "174    174       0.440                  the incredible hulk   62.898336   \n",
      "\n",
      "     vote_average  \n",
      "16            7.4  \n",
      "7             7.3  \n",
      "182           7.0  \n",
      "126           6.8  \n",
      "129           6.6  \n",
      "31            6.8  \n",
      "79            6.6  \n",
      "85            7.6  \n",
      "174           6.1  \n",
      "\n",
      "\n",
      "recommendation for  star wars\n",
      "      index  similarity                                         title  \\\n",
      "0         0       0.297                                        avatar   \n",
      "1990   1990       0.542                       the empire strikes back   \n",
      "233     233       0.310     star wars: episode i - the phantom menace   \n",
      "1490   1490       0.445                            return of the jedi   \n",
      "230     230       0.335  star wars: episode ii - attack of the clones   \n",
      "3899   3899       0.292                beneath the planet of the apes   \n",
      "4176   4176       0.286             battle for the planet of the apes   \n",
      "966     966       0.298                                     marmaduke   \n",
      "4184   4184       0.298                             deadline - u.s.a.   \n",
      "\n",
      "      popularity  vote_average  \n",
      "0     150.437577           7.2  \n",
      "1990   78.517830           8.2  \n",
      "233    54.035265           6.3  \n",
      "1490   46.509071           7.9  \n",
      "230    43.987061           6.4  \n",
      "3899   24.393296           6.2  \n",
      "4176   13.315383           5.5  \n",
      "966    12.256220           5.0  \n",
      "4184    0.225627           6.9  \n",
      "\n",
      "\n"
     ]
    }
   ],
   "source": [
    "main()"
   ]
  },
  {
   "cell_type": "code",
   "execution_count": 25,
   "metadata": {},
   "outputs": [
    {
     "name": "stdout",
     "output_type": "stream",
     "text": [
      "Do you want a recommendation list by two movie names or a story?\n",
      " A.Enter movie names   B.Enter a story\n",
      "B\n",
      "Enter story: you jump I jump\n",
      "science fiction horror adventure family\n",
      "      index  similarity                                    title  popularity  \\\n",
      "87       87       0.800                             tomorrowland  130.311355   \n",
      "2285   2285       0.800                       back to the future   76.603233   \n",
      "2967   2967       0.800               e.t. the extra-terrestrial   56.105798   \n",
      "1068   1068       0.800     the hitchhiker's guide to the galaxy   51.742065   \n",
      "358     358       0.800                atlantis: the lost empire   51.548589   \n",
      "1165   1165       0.800              back to the future part iii   45.769562   \n",
      "1152   1152       0.800               back to the future part ii   43.345252   \n",
      "67       67       0.800                       monsters vs aliens   36.167578   \n",
      "778     778       0.800                                meet dave   18.676291   \n",
      "461     461       0.894                            lost in space   17.455024   \n",
      "2755   2755       0.894                            earth to echo   17.371327   \n",
      "661     661       0.800               zathura: a space adventure   15.194239   \n",
      "960     960       0.894  the adventures of sharkboy and lavagirl   12.311010   \n",
      "3405   3405       0.775               stargate: the ark of truth    8.591387   \n",
      "2129   2129       0.800                           the black hole    8.265317   \n",
      "1093   1093       0.800                              deep rising    6.513856   \n",
      "1794   1794       0.800                            clockstoppers    5.894163   \n",
      "4344   4344       0.800                            godzilla 2000    3.322721   \n",
      "799     799       0.800                 resident evil: afterlife    2.143764   \n",
      "4669   4669       0.894            the beast from 20,000 fathoms    2.043661   \n",
      "\n",
      "      vote_average  \n",
      "87             6.2  \n",
      "2285           8.0  \n",
      "2967           7.3  \n",
      "1068           6.6  \n",
      "358            6.7  \n",
      "1165           7.1  \n",
      "1152           7.4  \n",
      "67             6.0  \n",
      "778            5.0  \n",
      "461            5.0  \n",
      "2755           5.7  \n",
      "661            6.1  \n",
      "960            4.4  \n",
      "3405           6.9  \n",
      "2129           6.1  \n",
      "1093           6.0  \n",
      "1794           4.9  \n",
      "4344           5.9  \n",
      "799            5.8  \n",
      "4669           6.7  \n"
     ]
    }
   ],
   "source": [
    "main()"
   ]
  },
  {
   "cell_type": "markdown",
   "metadata": {},
   "source": [
    "# Results"
   ]
  },
  {
   "cell_type": "markdown",
   "metadata": {},
   "source": [
    "As expected, both methods can generate reasonably similar movies. Cosine Similarity based model performs really well when two input movies are close in terms of cosine or similar. For example, when they are all about superheros. However, when two input movies are very different from each other, the performance  of finding similar movies to both inputs dropped, and that is why we took another path to return similar movies to each input. For the second method which applies Doc2Vec, it sometimes can provide surprisingly precise result, but the performance is not consistent. For example, when “alien” is in the input overview, the program will consider it as genres of “fiction”, “science”, and “thriller” and return movies like “Independence Day” and “Star Trek”. Given “alien” is not a tagged genres, the result is surprising.\n",
    "    \n",
    "But of course, there are some weaknesses in our model. For example, since the keywords, the most important feature, is concluded by viewers without a standard, some similar movies might have very different keywords due to the different focus by viewers. As a result, the similarity score between some similar movies could be very low. "
   ]
  },
  {
   "cell_type": "markdown",
   "metadata": {},
   "source": [
    "# Analysis"
   ]
  },
  {
   "cell_type": "markdown",
   "metadata": {},
   "source": [
    "Our system has genres recommendation bias problem. The system performs better in recommending fiction and action movies. However, for the other genres, the results are not very accurate. For objective feature bias, we might add more features, such as movie director and main cast, by which the significance of certain feature, in this case keywords, would decrease and the cosine similarity model would have a better performance. Moreover, one of the reasons of low accuracy recommendation in other genres is insufficient data set. The lack of data diversity and adequacy cause recommendation bias problem. Therefore, we can also feed more data to train Doc2Vec model. For this project, we only used movie overviews to train our model, but for future work, the whole movie script can be used, and ideally generate better performance.\n"
   ]
  },
  {
   "cell_type": "code",
   "execution_count": null,
   "metadata": {},
   "outputs": [],
   "source": []
  }
 ],
 "metadata": {
  "kernelspec": {
   "display_name": "Python 3",
   "language": "python",
   "name": "python3"
  },
  "language_info": {
   "codemirror_mode": {
    "name": "ipython",
    "version": 3
   },
   "file_extension": ".py",
   "mimetype": "text/x-python",
   "name": "python",
   "nbconvert_exporter": "python",
   "pygments_lexer": "ipython3",
   "version": "3.7.2"
  }
 },
 "nbformat": 4,
 "nbformat_minor": 2
}
