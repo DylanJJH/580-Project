{
 "cells": [
  {
   "cell_type": "markdown",
   "metadata": {},
   "source": [
    "# Project 2 - Team Hot Dog\n",
    "\n",
    "Dongru Jia: Model 2, Design Poster  \n",
    "Jianhao Ji: Model 1, Data Cleaning  \n",
    "Miao Wang: Model 1, Data Cleaning  \n",
    "Yuxuan Yao: Model 2, Pring Poster"
   ]
  },
  {
   "cell_type": "code",
   "execution_count": 50,
   "metadata": {},
   "outputs": [],
   "source": [
    "import pandas as pd \n",
    "import numpy as np\n",
    "import re\n",
    "from sklearn.feature_extraction.text import CountVectorizer\n",
    "from sklearn.metrics.pairwise import cosine_similarity\n",
    "import string\n",
    "import csv\n",
    "import nltk\n",
    "from nltk.corpus import stopwords\n",
    "from gensim.models.doc2vec import Doc2Vec, TaggedDocument\n",
    "from nltk.tokenize import word_tokenize\n",
    "import warnings\n",
    "warnings.filterwarnings(\"ignore\")"
   ]
  },
  {
   "cell_type": "code",
   "execution_count": null,
   "metadata": {},
   "outputs": [],
   "source": []
  },
  {
   "cell_type": "markdown",
   "metadata": {},
   "source": [
    "## Data Cleaning"
   ]
  },
  {
   "cell_type": "code",
   "execution_count": null,
   "metadata": {},
   "outputs": [],
   "source": [
    "# Read data\n",
    "raw = pd.read_csv('tmdb_5000_credits.csv')\n",
    "data= pd.read_csv('tmdb_5000_movies.csv')"
   ]
  },
  {
   "cell_type": "code",
   "execution_count": null,
   "metadata": {},
   "outputs": [],
   "source": [
    "# Extract the cast list from 'tmdb_5000_credits.csv'\n",
    "# Find the length of the cast list\n",
    "def count_cast(string):\n",
    "    count_name = string.count('name')\n",
    "    return count_name\n",
    "# Every name locates between the tag 'name' and 'order', this fuction is to find the index of each tag\n",
    "def findStr(string, subStr, findCnt):\n",
    "    listStr = string.split(subStr,findCnt)\n",
    "    if len(listStr) <= findCnt:\n",
    "        return -1\n",
    "    return len(string)-len(listStr[-1])-len(subStr)\n",
    "# Extract every name in the long messy list\n",
    "raw = raw.assign(cast_list=\"\")\n",
    "for n in range(len(raw)):\n",
    "    cast = ''\n",
    "    allname = raw['cast'].iloc[n]\n",
    "    \n",
    "    for i in range(1,count_cast(allname)+1):\n",
    "        name = findStr(allname,'name',i)\n",
    "        order = findStr(allname,'order',i)  \n",
    "        cast = cast + allname[name+8:order-4]+', '        \n",
    "    raw['cast_list'].iloc[n] = cast\n",
    "    \n",
    "raw = raw.drop(['cast'], axis = 1)\n",
    "#raw.to_csv(\"cleaned credits.csv\")"
   ]
  },
  {
   "cell_type": "code",
   "execution_count": null,
   "metadata": {},
   "outputs": [],
   "source": [
    "#'tmdb_5000_credits.csv' data format\n",
    "def moviewords(col):\n",
    "    new_col=[]\n",
    "    for i in data[col]:\n",
    "        i=str(i)\n",
    "        i=i.lower()\n",
    "        i=re.sub('[0-9]', '', i)\n",
    "        i=re.sub('name|id', '', i)\n",
    "        i=re.sub('{\"\": , \"\": \"|\"}', '', i)\n",
    "        i=re.sub('\\\\[|\\\\]', '', i)\n",
    "        i=re.sub('{\"\": \"|\", \"\": }', '', i)\n",
    "        new_col.append(i)\n",
    "    return new_col"
   ]
  },
  {
   "cell_type": "code",
   "execution_count": null,
   "metadata": {},
   "outputs": [],
   "source": [
    "#modified data frame\n",
    "modify=data[['id', 'title', 'overview', 'popularity', 'budget', 'revenue',\n",
    "             'runtime', 'vote_average', 'vote_count']]\n",
    "\n",
    "modify['cast']=raw['cast_list'] #extract cast list from the 1st dataset\n",
    "modify['genres']=moviewords('genres') #format genres\n",
    "modify['keywords']=moviewords('keywords') #format keywords\n",
    "modify['production_companies']=moviewords('production_companies') #format companies\n",
    "modify['features']=modify['keywords']+modify['production_companies']+modify['genres']+modify['title'] #combine needed features\n",
    "#modify['features']=modify['keywords']+modify['production_companies']+modify['genres']+modify['title']+credit['cast_list']\n",
    "modify['index']=list(range(0, len(modify))) #create movie index for future matrix combine  \n",
    "modify=modify.drop_duplicates() #drop duplicates\n",
    "modify=modify.fillna('') #drop mising value\n",
    "modify.to_csv('modified data.csv', index=False)\n"
   ]
  },
  {
   "cell_type": "markdown",
   "metadata": {},
   "source": [
    "## Main function - the user could choose the recommendation list by movies names or a short story"
   ]
  },
  {
   "cell_type": "code",
   "execution_count": 43,
   "metadata": {},
   "outputs": [],
   "source": [
    "def main():\n",
    "    ans = input('Do you want a recommendation list by two movie names or a story?\\n A.Enter movie names   B.Enter a story\\n')\n",
    "    movie = []\n",
    "    if ans == 'A' or ans == 'a':\n",
    "        overall_recommendation(movie)\n",
    "    if ans == 'B' or ans == 'b': \n",
    "        common_recom()"
   ]
  },
  {
   "cell_type": "markdown",
   "metadata": {},
   "source": [
    "## Model 1 - Movie recommendation by entering movie names"
   ]
  },
  {
   "cell_type": "code",
   "execution_count": 6,
   "metadata": {},
   "outputs": [],
   "source": [
    "# Calculate cosine similarity between the two input movies\n",
    "def movie_similar(movie_names):\n",
    "    \n",
    "    movie_1=modify[modify['title']==movie_names[0]]\n",
    "    movie_2=modify[modify['title']==movie_names[1]]\n",
    "    movies_df=pd.concat([movie_1, movie_2], axis=0)\n",
    "    count_matrix=CountVectorizer().fit_transform(movies_df['features'])\n",
    "    cosine_sim=np.round(cosine_similarity(count_matrix), 3)\n",
    "    sim=cosine_sim[0,1]\n",
    "    print('movie similarity: ', sim)\n",
    "    print('\\n')\n",
    "    return sim"
   ]
  },
  {
   "cell_type": "code",
   "execution_count": 7,
   "metadata": {},
   "outputs": [],
   "source": [
    "# If the input movies are pretty similar, return to the recommendation list based on common features\n",
    "def common_recom(movie_names):\n",
    "    common=modify\n",
    "    movie_1=common[common['title']==movie_names[0]]\n",
    "    movie_2=common[common['title']==movie_names[1]]\n",
    "    common_in_movies=pd.concat([movie_1, movie_2], ignore_index=True)\n",
    "    common.features[len(common)]=common_in_movies.features[0]+''+common_in_movies.features[1]\n",
    "    \n",
    "    count_matrix=CountVectorizer().fit_transform(common['features'])\n",
    "    cosine_sim=np.round(cosine_similarity(count_matrix), 3)\n",
    "    \n",
    "    index=4803\n",
    "    similar_movies=list(enumerate(cosine_sim[index]))\n",
    "    similar_movies=pd.DataFrame(similar_movies, columns=['index', 'similarity'])\n",
    "    similar_movies=pd.merge(similar_movies, common[['index', 'title','popularity','vote_average']], on='index')\n",
    "    def similar_movies_index(title):\n",
    "        return similar_movies.index[similar_movies['title']==title].values[0]\n",
    "    similar_movies=similar_movies.drop(index=[similar_movies_index(movie_names[0]),\n",
    "                                        similar_movies_index(movie_names[1])])\n",
    "    similar_movies=similar_movies.sort_values(by='similarity', ascending=False)\n",
    "    similar_movies=similar_movies[0:10]\n",
    "    print('recommendation by commonplace')\n",
    "    print(similar_movies.sort_values(by = 'popularity',ascending = False))\n",
    "    print('\\n')\n",
    "    return similar_movies.sort_values(by = 'popularity',ascending = False)"
   ]
  },
  {
   "cell_type": "code",
   "execution_count": 8,
   "metadata": {},
   "outputs": [],
   "source": [
    "# If input movies are not similar, seperate movie recommendation\n",
    "def movie_recom(movie_names):\n",
    "    count_matrix=CountVectorizer().fit_transform(modify['features'])\n",
    "    cosine_sim=np.round(cosine_similarity(count_matrix), 3)\n",
    "    def movie_index(title):\n",
    "        return modify.index[modify['title']==title].values[0]\n",
    "    for movie_name in movie_names:\n",
    "        index=movie_index(movie_name)\n",
    "        similar_movies=list(enumerate(cosine_sim[index]))\n",
    "        similar_movies=pd.DataFrame(similar_movies, columns=['index', 'similarity'])\n",
    "        similar_movies=pd.merge(similar_movies, modify[['index', 'title','popularity','vote_average']], on='index')\n",
    "        similar_movies=similar_movies.sort_values(by='similarity', ascending=False)\n",
    "        similar_movies = similar_movies[1:10]\n",
    "        print('recommendation for ', movie_name)\n",
    "        print(similar_movies.sort_values(by = 'popularity',ascending = False))\n",
    "        print('\\n')\n",
    "    return similar_movies.sort_values(by = 'popularity',ascending = False)"
   ]
  },
  {
   "cell_type": "code",
   "execution_count": 9,
   "metadata": {},
   "outputs": [],
   "source": [
    "# Combine the above situation and provide an overall recommendation\n",
    "def overall_recommendation(movie_names):\n",
    "    movie01 = str(input('Please enter the 1st movie:\\n'))\n",
    "    movie02 = str(input('Please enter the 2nd movie:\\n'))\n",
    "    movie_names = [movie01, movie02]\n",
    "    if movie_similar(movie_names) > 0.15:\n",
    "        common_recom(movie_names)\n",
    "    else:\n",
    "        movie_recom(movie_names)"
   ]
  },
  {
   "cell_type": "code",
   "execution_count": 20,
   "metadata": {},
   "outputs": [
    {
     "name": "stdout",
     "output_type": "stream",
     "text": [
      "Please enter the 1st movie:\n",
      "Spider-Man\n",
      "Please enter the 2nd movie:\n",
      "The Avengers\n",
      "movie similarity:  0.374\n",
      "\n",
      "\n",
      "recommendation by commonplace\n",
      "     index  similarity                                title  popularity  \\\n",
      "26      26       0.481           Captain America: Civil War  198.372395   \n",
      "7        7       0.553              Avengers: Age of Ultron  134.279229   \n",
      "68      68       0.470                             Iron Man  120.725053   \n",
      "182    182       0.663                              Ant-Man  120.093610   \n",
      "126    126       0.535                 Thor: The Dark World   99.499595   \n",
      "129    129       0.516                                 Thor   86.493424   \n",
      "79      79       0.592                           Iron Man 2   77.300194   \n",
      "85      85       0.503  Captain America: The Winter Soldier   72.225265   \n",
      "174    174       0.535                  The Incredible Hulk   62.898336   \n",
      "203    203       0.463                                   X2    2.871739   \n",
      "\n",
      "     vote_average  \n",
      "26            7.1  \n",
      "7             7.3  \n",
      "68            7.4  \n",
      "182           7.0  \n",
      "126           6.8  \n",
      "129           6.6  \n",
      "79            6.6  \n",
      "85            7.6  \n",
      "174           6.1  \n",
      "203           6.8  \n",
      "\n",
      "\n"
     ]
    }
   ],
   "source": [
    "# model test\n",
    "overall_recommendation(movielist)"
   ]
  },
  {
   "cell_type": "markdown",
   "metadata": {},
   "source": [
    "## Model 2 - Movie recommendation by entering keywords or stories"
   ]
  },
  {
   "cell_type": "code",
   "execution_count": 24,
   "metadata": {},
   "outputs": [],
   "source": [
    "movies = modify"
   ]
  },
  {
   "cell_type": "code",
   "execution_count": 31,
   "metadata": {},
   "outputs": [],
   "source": [
    "# Clean stopwords and punctuation and to lowercase training data (overview and genres)\n",
    "def token_clean(name):\n",
    "    lemma = nltk.wordnet.WordNetLemmatizer()\n",
    "    name_list = []\n",
    "    movies[name] = movies[name].astype(str)\n",
    "    for index,row in movies.iterrows():\n",
    "        text = row[name]\n",
    "        text = re.sub(r'\\b\\d+\\b', '', text)\n",
    "        tokens = nltk.word_tokenize(text)\n",
    "        tokens = [token.lower() for token in tokens if token.lower() not in stopwords.words('english')]\n",
    "        tokens = [term for term in tokens if term not in string.punctuation]\n",
    "        tokens = [lemma.lemmatize(token) for token in tokens]\n",
    "        new_fea = ' '.join(tokens)\n",
    "        name_list.append(new_fea)\n",
    "    return name_list"
   ]
  },
  {
   "cell_type": "code",
   "execution_count": 33,
   "metadata": {},
   "outputs": [],
   "source": [
    "overview = token_clean(\"overview\")\n",
    "genres = token_clean(\"genres\")\n",
    "movies[\"genres\"] = genres\n",
    "data = overview\n",
    "tags = genres\n",
    "tagged_data = [TaggedDocument(words=nltk.word_tokenize(d), tags=nltk.word_tokenize(str(tags[i]))) for i, d in enumerate(data)]"
   ]
  },
  {
   "cell_type": "code",
   "execution_count": null,
   "metadata": {},
   "outputs": [],
   "source": [
    "max_epochs = 100\n",
    "\n",
    "model = Doc2Vec(size=20, alpha=0.025,  min_alpha=0.00025, min_count=1, dm =1) # low performance\n",
    "\n",
    "model1 = Doc2Vec(dm=0, vector_size=100, negative=5, hs=0, min_count=2, sample=0,  epochs=20) # decided model\n",
    "\n",
    "model2 = Doc2Vec(dm=1, vector_size=100, window=10, negative=5, hs=0, min_count=2, sample=0, \n",
    "                 epochs=20, alpha=0.05, comment='alpha=0.05') #low performance\n",
    "\n",
    "model3 = Doc2Vec(dm=1, dm_concat=1, vector_size=100, window=5, negative=5, hs=0, min_count=2, sample=0, epochs=20)"
   ]
  },
  {
   "cell_type": "code",
   "execution_count": null,
   "metadata": {},
   "outputs": [],
   "source": [
    "model1.build_vocab(tagged_data)\n",
    "\n",
    "for epoch in range(max_epochs):\n",
    "    print('iteration {0}'.format(epoch))\n",
    "    model1.train(tagged_data,\n",
    "                total_examples=model1.corpus_count,\n",
    "                epochs=model1.iter)\n",
    "    # decrease the learning rate\n",
    "    model1.alpha -= 0.0002\n",
    "    # fix the learning rate, no decay\n",
    "    model1.min_alpha = model1.alpha\n",
    "model1.save(\"d2v.model1\")\n",
    "print(\"Model Saved\")"
   ]
  },
  {
   "cell_type": "code",
   "execution_count": 29,
   "metadata": {},
   "outputs": [
    {
     "name": "stdout",
     "output_type": "stream",
     "text": [
      "[('science', 0.5595553517341614), ('fiction', 0.554796576499939), ('fantasy', 0.3704167902469635), ('adventure', 0.35852891206741333), ('action', 0.3474762737751007)]\n"
     ]
    }
   ],
   "source": [
    "# test overview of Avatar\n",
    "model= Doc2Vec.load(\"d2v.model1\")\n",
    "test_data = word_tokenize(\n",
    "    '22nd century paraplegic marine dispatched moon pandora unique mission becomes torn following order protecting alien civilization'.lower())\n",
    "v1 = model.infer_vector(test_data)\n",
    "\n",
    "print(model.docvecs.most_similar(positive=[v1], topn = 5))"
   ]
  },
  {
   "cell_type": "code",
   "execution_count": 38,
   "metadata": {},
   "outputs": [
    {
     "data": {
      "text/plain": [
       "'science fiction fantasy'"
      ]
     },
     "execution_count": 38,
     "metadata": {},
     "output_type": "execute_result"
    }
   ],
   "source": [
    "# Extract top n most similar genres\n",
    "def similar_genres(overview, n = 3):\n",
    "    g = ''\n",
    "    model= Doc2Vec.load(\"d2v.model1\")\n",
    "    test_data = word_tokenize(overview.lower())\n",
    "    v1 = model.infer_vector(test_data)\n",
    "    genres = model.docvecs.most_similar(positive=[v1], topn = n)\n",
    "    for i in genres:\n",
    "        g = g+ \" \" + i[0]\n",
    "    g = g.strip()\n",
    "    return g\n",
    "\n",
    "# test function\n",
    "similar_genres(\n",
    "    '22nd century paraplegic marine dispatched moon pandora unique mission becomes torn following order protecting alien civilization')"
   ]
  },
  {
   "cell_type": "code",
   "execution_count": 49,
   "metadata": {},
   "outputs": [
    {
     "name": "stdout",
     "output_type": "stream",
     "text": [
      "Enter story: A young man and a young woman fell in love\n",
      "romance fantasy movie tv adventure\n",
      "      index  similarity                                      title  \\\n",
      "1337   1337       0.671                                   Twilight   \n",
      "81       81       0.600                                 Maleficent   \n",
      "612     612       0.671                 The Twilight Saga: Eclipse   \n",
      "172     172       0.671  The Twilight Saga: Breaking Dawn - Part 2   \n",
      "898     898       0.671                The Twilight Saga: New Moon   \n",
      "22       22       0.632        The Hobbit: The Desolation of Smaug   \n",
      "1695   1695       0.548                                    Aladdin   \n",
      "331     331       0.632                                Seventh Son   \n",
      "50       50       0.671        Prince of Persia: The Sands of Time   \n",
      "591     591       0.671                                   Stardust   \n",
      "777     777       0.548      The Mortal Instruments: City of Bones   \n",
      "2556   2556       0.600                         The Princess Bride   \n",
      "23       23       0.632                         The Golden Compass   \n",
      "942     942       0.548                           The Book of Life   \n",
      "2175   2175       0.671                                  Ladyhawke   \n",
      "935     935       0.600                        Herbie Fully Loaded   \n",
      "3809   3809       0.671                        How to Fall in Love   \n",
      "3777   3777       0.632                             The Barbarians   \n",
      "4800   4800       0.600                  Signed, Sealed, Delivered   \n",
      "3285   3285       0.671                                   Restless   \n",
      "\n",
      "      popularity  vote_average  \n",
      "1337  127.084938           5.8  \n",
      "81    110.620647           7.0  \n",
      "612   107.069763           5.8  \n",
      "172    99.687084           6.1  \n",
      "898    94.815867           5.6  \n",
      "22     94.370564           7.6  \n",
      "1695   92.982009           7.4  \n",
      "331    63.628459           5.2  \n",
      "50     62.169881           6.2  \n",
      "591    48.032734           7.1  \n",
      "777    45.514031           6.2  \n",
      "2556   44.533612           7.6  \n",
      "23     42.990906           5.8  \n",
      "942    34.890999           7.3  \n",
      "2175   14.370111           6.8  \n",
      "935    12.050755           5.1  \n",
      "3809    1.923514           5.2  \n",
      "3777    1.631993           5.1  \n",
      "4800    1.444476           7.0  \n",
      "3285    0.812776           4.9  \n"
     ]
    }
   ],
   "source": [
    "# Movie recommendation based on common features\n",
    "def common_recom(n=5):\n",
    "    overview = input(\"Enter story: \")\n",
    "    common=movies\n",
    "    common.genres[len(common)]=similar_genres(overview, n)\n",
    "    common.reset_index()\n",
    "    \n",
    "    count_matrix=CountVectorizer().fit_transform(common['genres'])\n",
    "    cosine_sim=np.round(cosine_similarity(count_matrix), 3)\n",
    "    \n",
    "    index=len(common.genres)-1\n",
    "    similar_movies=list(enumerate(cosine_sim[index]))\n",
    "    similar_movies=pd.DataFrame(similar_movies, columns=['index', 'similarity'])\n",
    "    similar_movies=pd.merge(similar_movies, common[['index', 'title', 'popularity', 'vote_average']], on='index')\n",
    "    \n",
    "    similar_movies=similar_movies.sort_values(by='similarity', ascending=False)[:20]\n",
    "    similar_movies=similar_movies.sort_values(by='popularity', ascending=False)\n",
    "    #print('recommendation by commonplace')\n",
    "    #print(similar_movies[0:20])\n",
    "    #print('\\n')\n",
    "    print(similar_genres(overview, n))\n",
    "    print(similar_movies[0:20])\n",
    "\n",
    "# Test function with a short story\n",
    "common_recom()"
   ]
  },
  {
   "cell_type": "markdown",
   "metadata": {},
   "source": [
    "## Overall testing"
   ]
  },
  {
   "cell_type": "code",
   "execution_count": 44,
   "metadata": {},
   "outputs": [
    {
     "name": "stdout",
     "output_type": "stream",
     "text": [
      "Do you want a recommendation list by two movie names or a story?\n",
      " A.Enter movie names   B.Enter a story\n",
      "A\n",
      "Please enter the 1st movie:\n",
      "Tomorrowland\n",
      "Please enter the 2nd movie:\n",
      "Deep Rising\n",
      "movie similarity:  0.15\n",
      "\n",
      "\n",
      "recommendation for  Tomorrowland\n",
      "      index  similarity                      title  popularity  vote_average\n",
      "51       51       0.229                Pacific Rim   56.523205           6.7\n",
      "358     358       0.239  Atlantis: The Lost Empire   51.548589           6.7\n",
      "375     375       0.281           Bicentennial Man   24.939295           6.9\n",
      "225     225       0.251                Speed Racer   17.060695           5.7\n",
      "935     935       0.256        Herbie Fully Loaded   12.050755           5.1\n",
      "450     450       0.278                    Flubber   11.503960           5.3\n",
      "3059   3059       0.237              Teacher's Pet    1.374409           5.5\n",
      "2851   2851       0.265      Max Keeble's Big Move    1.081822           5.4\n",
      "4123   4123       0.265             Roadside Romeo    0.253595           6.7\n",
      "\n",
      "\n",
      "recommendation for  Deep Rising\n",
      "      index  similarity                               title  popularity  \\\n",
      "205     205       0.330  Sherlock Holmes: A Game of Shadows   81.499621   \n",
      "791     791       0.343                          Goosebumps   45.351617   \n",
      "533     533       0.353                       Monster House   36.368839   \n",
      "2212   2212       0.327                            Triple 9   29.371987   \n",
      "632     632       0.364                        Dreamcatcher   26.792794   \n",
      "1986   1986       0.338                              Faster   26.324874   \n",
      "1715   1715       0.409                             Timecop   13.308127   \n",
      "1099   1099       0.364                   Shadow Conspiracy    3.848893   \n",
      "1247   1247       0.359                     City By The Sea    3.476966   \n",
      "\n",
      "      vote_average  \n",
      "205            7.0  \n",
      "791            6.2  \n",
      "533            6.3  \n",
      "2212           5.6  \n",
      "632            5.3  \n",
      "1986           6.1  \n",
      "1715           5.5  \n",
      "1099           4.0  \n",
      "1247           5.7  \n",
      "\n",
      "\n"
     ]
    }
   ],
   "source": [
    "main()"
   ]
  },
  {
   "cell_type": "code",
   "execution_count": 24,
   "metadata": {},
   "outputs": [
    {
     "name": "stdout",
     "output_type": "stream",
     "text": [
      "Do you want a recommendation list by two movie names or a story?\n",
      " A.Enter movie names   B.Enter a story\n",
      "B\n",
      "Enter story: you jump I jump\n",
      "horror adventure family fiction science\n",
      "      index  similarity                                    title  popularity  \\\n",
      "87       87       0.800                             Tomorrowland  130.311355   \n",
      "2285   2285       0.800                       Back to the Future   76.603233   \n",
      "2967   2967       0.800               E.T. the Extra-Terrestrial   56.105798   \n",
      "1068   1068       0.800     The Hitchhiker's Guide to the Galaxy   51.742065   \n",
      "358     358       0.800                Atlantis: The Lost Empire   51.548589   \n",
      "1165   1165       0.800              Back to the Future Part III   45.769562   \n",
      "1152   1152       0.800               Back to the Future Part II   43.345252   \n",
      "67       67       0.800                       Monsters vs Aliens   36.167578   \n",
      "778     778       0.800                                Meet Dave   18.676291   \n",
      "461     461       0.894                            Lost in Space   17.455024   \n",
      "2755   2755       0.894                            Earth to Echo   17.371327   \n",
      "661     661       0.800               Zathura: A Space Adventure   15.194239   \n",
      "960     960       0.894  The Adventures of Sharkboy and Lavagirl   12.311010   \n",
      "3405   3405       0.775               Stargate: The Ark of Truth    8.591387   \n",
      "2129   2129       0.800                           The Black Hole    8.265317   \n",
      "1093   1093       0.800                              Deep Rising    6.513856   \n",
      "1794   1794       0.800                            Clockstoppers    5.894163   \n",
      "4344   4344       0.800                            Godzilla 2000    3.322721   \n",
      "799     799       0.800                 Resident Evil: Afterlife    2.143764   \n",
      "4669   4669       0.894            The Beast from 20,000 Fathoms    2.043661   \n",
      "\n",
      "      vote_average  \n",
      "87             6.2  \n",
      "2285           8.0  \n",
      "2967           7.3  \n",
      "1068           6.6  \n",
      "358            6.7  \n",
      "1165           7.1  \n",
      "1152           7.4  \n",
      "67             6.0  \n",
      "778            5.0  \n",
      "461            5.0  \n",
      "2755           5.7  \n",
      "661            6.1  \n",
      "960            4.4  \n",
      "3405           6.9  \n",
      "2129           6.1  \n",
      "1093           6.0  \n",
      "1794           4.9  \n",
      "4344           5.9  \n",
      "799            5.8  \n",
      "4669           6.7  \n"
     ]
    }
   ],
   "source": [
    "main()"
   ]
  },
  {
   "cell_type": "code",
   "execution_count": null,
   "metadata": {},
   "outputs": [],
   "source": []
  },
  {
   "cell_type": "code",
   "execution_count": null,
   "metadata": {},
   "outputs": [],
   "source": []
  }
 ],
 "metadata": {
  "kernelspec": {
   "display_name": "Python 3",
   "language": "python",
   "name": "python3"
  },
  "language_info": {
   "codemirror_mode": {
    "name": "ipython",
    "version": 3
   },
   "file_extension": ".py",
   "mimetype": "text/x-python",
   "name": "python",
   "nbconvert_exporter": "python",
   "pygments_lexer": "ipython3",
   "version": "3.7.2"
  }
 },
 "nbformat": 4,
 "nbformat_minor": 2
}
