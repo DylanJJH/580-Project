{
 "cells": [
  {
   "cell_type": "code",
   "execution_count": 10,
   "metadata": {},
   "outputs": [],
   "source": [
    "import pandas as pd \n",
    "import numpy as np\n",
    "import re\n",
    "from sklearn.feature_extraction.text import CountVectorizer\n",
    "from sklearn.metrics.pairwise import cosine_similarity"
   ]
  },
  {
   "cell_type": "code",
   "execution_count": null,
   "metadata": {},
   "outputs": [],
   "source": [
    "#extract the cast list from 'tmdb_5000_credits.csv'\n",
    "raw = pd.read_csv('tmdb_5000_credits.csv')\n",
    "\n",
    "def count_cast(string):\n",
    "    count_name = string.count('name')\n",
    "    return count_name\n",
    "\n",
    "def findStr(string, subStr, findCnt):\n",
    "    listStr = string.split(subStr,findCnt)\n",
    "    if len(listStr) <= findCnt:\n",
    "        return -1\n",
    "    return len(string)-len(listStr[-1])-len(subStr)\n",
    "\n",
    "raw = raw.assign(cast_list=\"\")\n",
    "for n in range(len(raw)):\n",
    "    cast = ''\n",
    "    allname = raw['cast'].iloc[n]\n",
    "    \n",
    "    for i in range(1,count_cast(allname)+1):\n",
    "        name = findStr(allname,'name',i)\n",
    "        order = findStr(allname,'order',i)  \n",
    "        cast = cast + allname[name+8:order-4]+', '        \n",
    "    raw['cast_list'].iloc[n] = cast\n",
    "    \n",
    "raw = raw.drop(['cast'], axis = 1)\n",
    "raw.to_csv(\"cleaned credits.csv\")"
   ]
  },
  {
   "cell_type": "code",
   "execution_count": 9,
   "metadata": {},
   "outputs": [],
   "source": [
    "#read data \n",
    "data=pd.read_csv('tmdb_5000_movies.csv')\n",
    "credit=pd.read_csv('cleaned credits.csv')"
   ]
  },
  {
   "cell_type": "code",
   "execution_count": 3,
   "metadata": {},
   "outputs": [],
   "source": [
    "#variable formatting\n",
    "def moviewords(col):\n",
    "    new_col=[]\n",
    "    for i in data[col]:\n",
    "        i=str(i)\n",
    "        i=i.lower()\n",
    "        i=re.sub('[0-9]', '', i)\n",
    "        i=re.sub('name|id', '', i)\n",
    "        i=re.sub('{\"\": , \"\": \"|\"}', '', i)\n",
    "        i=re.sub('\\\\[|\\\\]', '', i)\n",
    "        i=re.sub('{\"\": \"|\", \"\": }', '', i)\n",
    "        new_col.append(i)\n",
    "    return new_col"
   ]
  },
  {
   "cell_type": "code",
   "execution_count": 4,
   "metadata": {},
   "outputs": [
    {
     "name": "stderr",
     "output_type": "stream",
     "text": [
      "/Library/Frameworks/Python.framework/Versions/3.7/lib/python3.7/site-packages/ipykernel_launcher.py:4: SettingWithCopyWarning: \n",
      "A value is trying to be set on a copy of a slice from a DataFrame.\n",
      "Try using .loc[row_indexer,col_indexer] = value instead\n",
      "\n",
      "See the caveats in the documentation: http://pandas.pydata.org/pandas-docs/stable/user_guide/indexing.html#returning-a-view-versus-a-copy\n",
      "  after removing the cwd from sys.path.\n",
      "/Library/Frameworks/Python.framework/Versions/3.7/lib/python3.7/site-packages/ipykernel_launcher.py:5: SettingWithCopyWarning: \n",
      "A value is trying to be set on a copy of a slice from a DataFrame.\n",
      "Try using .loc[row_indexer,col_indexer] = value instead\n",
      "\n",
      "See the caveats in the documentation: http://pandas.pydata.org/pandas-docs/stable/user_guide/indexing.html#returning-a-view-versus-a-copy\n",
      "  \"\"\"\n",
      "/Library/Frameworks/Python.framework/Versions/3.7/lib/python3.7/site-packages/ipykernel_launcher.py:6: SettingWithCopyWarning: \n",
      "A value is trying to be set on a copy of a slice from a DataFrame.\n",
      "Try using .loc[row_indexer,col_indexer] = value instead\n",
      "\n",
      "See the caveats in the documentation: http://pandas.pydata.org/pandas-docs/stable/user_guide/indexing.html#returning-a-view-versus-a-copy\n",
      "  \n",
      "/Library/Frameworks/Python.framework/Versions/3.7/lib/python3.7/site-packages/ipykernel_launcher.py:7: SettingWithCopyWarning: \n",
      "A value is trying to be set on a copy of a slice from a DataFrame.\n",
      "Try using .loc[row_indexer,col_indexer] = value instead\n",
      "\n",
      "See the caveats in the documentation: http://pandas.pydata.org/pandas-docs/stable/user_guide/indexing.html#returning-a-view-versus-a-copy\n",
      "  import sys\n",
      "/Library/Frameworks/Python.framework/Versions/3.7/lib/python3.7/site-packages/ipykernel_launcher.py:8: SettingWithCopyWarning: \n",
      "A value is trying to be set on a copy of a slice from a DataFrame.\n",
      "Try using .loc[row_indexer,col_indexer] = value instead\n",
      "\n",
      "See the caveats in the documentation: http://pandas.pydata.org/pandas-docs/stable/user_guide/indexing.html#returning-a-view-versus-a-copy\n",
      "  \n",
      "/Library/Frameworks/Python.framework/Versions/3.7/lib/python3.7/site-packages/ipykernel_launcher.py:10: SettingWithCopyWarning: \n",
      "A value is trying to be set on a copy of a slice from a DataFrame.\n",
      "Try using .loc[row_indexer,col_indexer] = value instead\n",
      "\n",
      "See the caveats in the documentation: http://pandas.pydata.org/pandas-docs/stable/user_guide/indexing.html#returning-a-view-versus-a-copy\n",
      "  # Remove the CWD from sys.path while we load stuff.\n"
     ]
    }
   ],
   "source": [
    "#modified data frame\n",
    "modify=data[['id', 'title', 'overview', 'popularity', 'budget', 'revenue',\n",
    "             'runtime', 'vote_average', 'vote_count']]\n",
    "modify['cast']=credit['cast_list']\n",
    "modify['genres']=moviewords('genres')\n",
    "modify['keywords']=moviewords('keywords')\n",
    "modify['production_companies']=moviewords('production_companies')\n",
    "modify['features']=modify['keywords']+modify['production_companies']+modify['genres']+modify['title']\n",
    "#modify_with_cast['features']=modify['keywords']+modify['production_companies']+modify['genres']+modify['title']+credits['cast_list']\n",
    "modify['index']=list(range(0, len(modify)))\n",
    "modify=modify.drop_duplicates()\n",
    "modify=modify.fillna('')\n",
    "modify.to_csv('modified data.csv', index=False)"
   ]
  },
  {
   "cell_type": "code",
   "execution_count": null,
   "metadata": {},
   "outputs": [],
   "source": []
  }
 ],
 "metadata": {
  "kernelspec": {
   "display_name": "Python 3",
   "language": "python",
   "name": "python3"
  },
  "language_info": {
   "codemirror_mode": {
    "name": "ipython",
    "version": 3
   },
   "file_extension": ".py",
   "mimetype": "text/x-python",
   "name": "python",
   "nbconvert_exporter": "python",
   "pygments_lexer": "ipython3",
   "version": "3.7.2"
  }
 },
 "nbformat": 4,
 "nbformat_minor": 2
}
